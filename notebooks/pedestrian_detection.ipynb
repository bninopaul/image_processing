{
 "cells": [
  {
   "cell_type": "code",
   "execution_count": 10,
   "metadata": {
    "collapsed": false
   },
   "outputs": [],
   "source": [
    "#Person Detection\n",
    "#http://www.pyimagesearch.com/2015/11/09/pedestrian-detection-opencv/\n",
    "\n",
    "# import the necessary packages\n",
    "from __future__ import print_function\n",
    "from imutils.object_detection import non_max_suppression\n",
    "from imutils import paths\n",
    "import numpy as np\n",
    "import argparse\n",
    "import imutils\n",
    "import cv2\n",
    "import matplotlib.pyplot as plt\n",
    "%matplotlib inline\n",
    " \n",
    "# initialize the HOG descriptor/person detector\n",
    "hog = cv2.HOGDescriptor()\n",
    "hog.setSVMDetector(cv2.HOGDescriptor_getDefaultPeopleDetector())"
   ]
  },
  {
   "cell_type": "code",
   "execution_count": 11,
   "metadata": {
    "collapsed": false
   },
   "outputs": [],
   "source": [
    "def run(): \n",
    "    camera = cv2.VideoCapture(0)\n",
    "    count = 0\n",
    "    while True:\n",
    "        count+=1\n",
    "        ret, frame = camera.read()\n",
    "        img =  cv2.resize(frame, (frame.shape[1]//2, frame.shape[0]//2), interpolation = cv2.INTER_CUBIC)\n",
    "\n",
    "        #detect person\n",
    "        (rects, weights) = hog.detectMultiScale(img, winStride=(4, 4),padding=(8, 8), scale=1.05)\n",
    "        rects = np.array([[x, y, x + w, y + h] for (x, y, w, h) in rects])\n",
    "        pick = non_max_suppression(rects, probs=None, overlapThresh=0.65)\n",
    "\n",
    "        if isinstance(pick, np.ndarray):\n",
    "            for (xA, yA, xB, yB) in pick:\n",
    "                cv2.rectangle(img, (xA, yA), (xB, yB), (0, 255, 0), 2)\n",
    "        cv2.imshow('detect pedestrian', img)    \n",
    "        ch = cv2.waitKey(1)\n",
    "        if ch == 27:\n",
    "            break\n",
    "    cv2.destroyAllWindows()    "
   ]
  },
  {
   "cell_type": "code",
   "execution_count": 12,
   "metadata": {
    "collapsed": false
   },
   "outputs": [],
   "source": [
    "run()"
   ]
  },
  {
   "cell_type": "code",
   "execution_count": null,
   "metadata": {
    "collapsed": true
   },
   "outputs": [],
   "source": []
  }
 ],
 "metadata": {
  "anaconda-cloud": {},
  "kernelspec": {
   "display_name": "Python [conda env:jolly]",
   "language": "python",
   "name": "conda-env-jolly-py"
  },
  "language_info": {
   "codemirror_mode": {
    "name": "ipython",
    "version": 2
   },
   "file_extension": ".py",
   "mimetype": "text/x-python",
   "name": "python",
   "nbconvert_exporter": "python",
   "pygments_lexer": "ipython2",
   "version": "2.7.12"
  }
 },
 "nbformat": 4,
 "nbformat_minor": 0
}
