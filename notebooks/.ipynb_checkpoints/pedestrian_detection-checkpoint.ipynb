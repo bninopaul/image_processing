{
 "cells": [
  {
   "cell_type": "code",
   "execution_count": 1,
   "metadata": {
    "collapsed": false
   },
   "outputs": [],
   "source": [
    "#Person Detection\n",
    "#http://www.pyimagesearch.com/2015/11/09/pedestrian-detection-opencv/\n",
    "\n",
    "# import the necessary packages\n",
    "from __future__ import print_function\n",
    "from imutils.object_detection import non_max_suppression\n",
    "from imutils import paths\n",
    "import numpy as np\n",
    "import argparse\n",
    "import imutils\n",
    "import cv2\n",
    " \n",
    "# construct the argument parse and parse the arguments\n",
    "#ap = argparse.ArgumentParser()\n",
    "#ap.add_argument(\"-i\", \"--images\", required=True, help=\"path to images directory\")\n",
    "#args = vars(ap.parse_args())\n",
    " \n",
    "# initialize the HOG descriptor/person detector\n",
    "hog = cv2.HOGDescriptor()\n",
    "hog.setSVMDetector(cv2.HOGDescriptor_getDefaultPeopleDetector())"
   ]
  },
  {
   "cell_type": "code",
   "execution_count": null,
   "metadata": {
    "collapsed": true
   },
   "outputs": [],
   "source": [
    "# loop over the image paths\n",
    "for imagePath in paths.list_images(args[\"images\"]):\n",
    "\t# load the image and resize it to (1) reduce detection time\n",
    "\t# and (2) improve detection accuracy\n",
    "\timage = cv2.imread(imagePath)\n",
    "\timage = imutils.resize(image, width=min(400, image.shape[1]))\n",
    "\torig = image.copy()\n",
    " \n",
    "\t# detect people in the image\n",
    "\t(rects, weights) = hog.detectMultiScale(image, winStride=(4, 4),\n",
    "\t\tpadding=(8, 8), scale=1.05)\n",
    " \n",
    "\t# draw the original bounding boxes\n",
    "\tfor (x, y, w, h) in rects:\n",
    "\t\tcv2.rectangle(orig, (x, y), (x + w, y + h), (0, 0, 255), 2)\n",
    " \n",
    "\t# apply non-maxima suppression to the bounding boxes using a\n",
    "\t# fairly large overlap threshold to try to maintain overlapping\n",
    "\t# boxes that are still people\n",
    "\trects = np.array([[x, y, x + w, y + h] for (x, y, w, h) in rects])\n",
    "\tpick = non_max_suppression(rects, probs=None, overlapThresh=0.65)\n",
    " \n",
    "\t# draw the final bounding boxes\n",
    "\tfor (xA, yA, xB, yB) in pick:\n",
    "\t\tcv2.rectangle(image, (xA, yA), (xB, yB), (0, 255, 0), 2)\n",
    " \n",
    "\t# show some information on the number of bounding boxes\n",
    "\tfilename = imagePath[imagePath.rfind(\"/\") + 1:]\n",
    "\tprint(\"[INFO] {}: {} original boxes, {} after suppression\".format(\n",
    "\t\tfilename, len(rects), len(pick)))\n",
    " \n",
    "\t# show the output images\n",
    "\tcv2.imshow(\"Before NMS\", orig)\n",
    "\tcv2.imshow(\"After NMS\", image)\n",
    "\tcv2.waitKey(0)"
   ]
  },
  {
   "cell_type": "code",
   "execution_count": 10,
   "metadata": {
    "collapsed": false
   },
   "outputs": [],
   "source": [
    "a = cv2.VideoCapture(0)"
   ]
  },
  {
   "cell_type": "code",
   "execution_count": 12,
   "metadata": {
    "collapsed": false
   },
   "outputs": [],
   "source": [
    "b,c = a.read()"
   ]
  },
  {
   "cell_type": "code",
   "execution_count": 14,
   "metadata": {
    "collapsed": false
   },
   "outputs": [
    {
     "ename": "ImportError",
     "evalue": "No module named 'matplotlib'",
     "output_type": "error",
     "traceback": [
      "\u001b[0;31m---------------------------------------------------------------------------\u001b[0m",
      "\u001b[0;31mImportError\u001b[0m                               Traceback (most recent call last)",
      "\u001b[0;32m<ipython-input-14-eff513f636fd>\u001b[0m in \u001b[0;36m<module>\u001b[0;34m()\u001b[0m\n\u001b[0;32m----> 1\u001b[0;31m \u001b[0;32mimport\u001b[0m \u001b[0mmatplotlib\u001b[0m\u001b[0;34m.\u001b[0m\u001b[0mpyplot\u001b[0m \u001b[0;32mas\u001b[0m \u001b[0mplt\u001b[0m\u001b[0;34m\u001b[0m\u001b[0m\n\u001b[0m",
      "\u001b[0;31mImportError\u001b[0m: No module named 'matplotlib'"
     ]
    }
   ],
   "source": [
    "import matplotlib.pyplot as plt"
   ]
  },
  {
   "cell_type": "code",
   "execution_count": null,
   "metadata": {
    "collapsed": true
   },
   "outputs": [],
   "source": []
  }
 ],
 "metadata": {
  "kernelspec": {
   "display_name": "Python 3",
   "language": "python",
   "name": "python3"
  },
  "language_info": {
   "codemirror_mode": {
    "name": "ipython",
    "version": 3
   },
   "file_extension": ".py",
   "mimetype": "text/x-python",
   "name": "python",
   "nbconvert_exporter": "python",
   "pygments_lexer": "ipython3",
   "version": "3.5.2"
  }
 },
 "nbformat": 4,
 "nbformat_minor": 0
}
